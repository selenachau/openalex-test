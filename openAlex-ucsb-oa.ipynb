#copied from https://github.com/ourresearch/openalex-api-tutorials/blob/main/notebooks/institutions/oa-percentage.ipynb
#input UCSB ROR is 02t274463
ror = 'https://ror.org/02t274463'

def build_institution_works_url(ror):
    # specify endpoint
    endpoint = 'works'

    # build the 'filter' parameter
    filters = (
        f'institutions.ror:{ror}',
        'is_paratext:false',
        'type:article', 
        'from_publication_date:2012-08-24'
    )
    
    # put the URL together
    return f'https://api.openalex.org/{endpoint}?filter={",".join(filters)}'

filtered_works_url = build_institution_works_url(ror)
print(f'complete URL with filters:\n{filtered_works_url}')

group_by_param = 'group_by=is_oa'

work_groups_url = f'{filtered_works_url}&{group_by_param}'
print(f'complete URL with group_by:\n{work_groups_url}')

import requests, json
response = requests.get(work_groups_url).json()

work_groups = response['group_by']
print(json.dumps(work_groups, indent=2))

def calculate_open_closed_counts(work_groups):
    open_works_count = 0
    closed_works_count = 0
    for index, group in enumerate(work_groups):
        print(f"--> Group {index+1} includes all works where `is_oa` is {group['key']} and has a count of {group['count']} publications.")

        if group['key']=="true":
            open_works_count += group['count']
        else: 
            closed_works_count += group['count']
    
    return open_works_count, closed_works_count

open_works_count, closed_works_count = calculate_open_closed_counts(work_groups)
total_works_count = open_works_count + closed_works_count

if total_works_count > 0:
    print('That makes an OA percentage of %f' % (100 * open_works_count/total_works_count))
else:
    print('OA percentage can`t be determined, no publications in result')

def create_donut_plot(open_works_count, closed_works_count):
    import matplotlib.pyplot as plt
    plt.rcParams["figure.figsize"] = (8,5.5)

    # set labels and their respective values
    groups = ['Open Access', 'Closed Access']
    counts = [open_works_count, closed_works_count]

    # some visual settings
    colors = ['#23c552', '#f84f31']
    explode = (0.01, 0.01)

    # pie chart
    plt.pie(counts, colors=colors, labels=groups,
            autopct='%1.1f%%', pctdistance=0.85,
            explode=explode, textprops={'fontsize': 14})

    # make it a donut (draw circle in the middle)
    centre_circle = plt.Circle((0, 0), 0.70, fc='white')
    fig = plt.gcf()
    fig.gca().add_artist(centre_circle)
    
    # display chart
    plt.show()

# create donut chart from open/closed counts
create_donut_plot(open_works_count, closed_works_count)
